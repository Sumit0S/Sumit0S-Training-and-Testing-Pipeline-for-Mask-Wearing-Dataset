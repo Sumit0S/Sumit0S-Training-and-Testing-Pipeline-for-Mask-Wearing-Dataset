{
  "cells": [
    {
      "cell_type": "code",
      "execution_count": null,
      "metadata": {
        "colab": {
          "base_uri": "https://localhost:8080/",
          "height": 0
        },
        "collapsed": true,
        "id": "rzUA1JYDtmP-",
        "outputId": "3d6417a3-7c24-42bd-de6f-be570028acad"
      },
      "outputs": [],
      "source": [
        "# %%capture\n",
        "!pip install torch --index-url https://download.pytorch.org/whl/cu118"
      ]
    },
    {
      "cell_type": "code",
      "execution_count": null,
      "metadata": {
        "colab": {
          "base_uri": "https://localhost:8080/",
          "height": 0
        },
        "collapsed": true,
        "id": "Aygh7FlEtvGX",
        "outputId": "0e584920-deca-491a-db30-92a939fe1783"
      },
      "outputs": [],
      "source": [
        "#Dataset\n",
        "!wget \"https://public.roboflow.com/ds/33zG9JOCMA?key=jZBzXHc048\" -O mask-wearing.zip\n",
        "!unzip mask-wearing.zip -d mask_wearing"
      ]
    },
    {
      "cell_type": "code",
      "execution_count": null,
      "metadata": {
        "colab": {
          "base_uri": "https://localhost:8080/",
          "height": 0
        },
        "id": "T3z9FjAa8WNv",
        "outputId": "475e20ba-fbbc-4097-e87d-fc0e8cf5db47"
      },
      "outputs": [],
      "source": [
        "!pip install ultralytics"
      ]
    },
    {
      "cell_type": "code",
      "execution_count": null,
      "metadata": {
        "colab": {
          "base_uri": "https://localhost:8080/",
          "height": 0
        },
        "id": "qzj_Q2nxt1_7",
        "outputId": "d4a81fef-ee0a-4577-efff-f0e3af749812"
      },
      "outputs": [],
      "source": [
        "# YOLOv5 Setup\n",
        "!git clone https://github.com/ultralytics/yolov5.git\n",
        "%cd yolov5\n",
        "!pip install -r requirements.txt\n"
      ]
    },
    {
      "cell_type": "code",
      "execution_count": null,
      "metadata": {
        "id": "BvlDjqGht3uy"
      },
      "outputs": [],
      "source": [
        "import cv2\n",
        "import os\n",
        "import matplotlib.pyplot as plt"
      ]
    },
    {
      "cell_type": "code",
      "execution_count": null,
      "metadata": {
        "colab": {
          "base_uri": "https://localhost:8080/",
          "height": 170
        },
        "id": "Bx5SPxFjt5qr",
        "outputId": "3c2abbb3-8911-4965-e730-a94715210d85"
      },
      "outputs": [],
      "source": [
        "# Define dataset path\n",
        "DATASET_PATH = \"/content/mask_dataset/\"\n",
        "# Changed data.yaml relative train, valid paths to absolute paths\n",
        "\n",
        "# Visualizing some dataset images\n",
        "image_files = [os.path.join(DATASET_PATH, \"train\", \"images\", f) for f in os.listdir(os.path.join(DATASET_PATH, \"train\", \"images\"))[5:10]]\n",
        "\n",
        "fig, axes = plt.subplots(1, 5, figsize=(15, 5))\n",
        "for img_path, ax in zip(image_files, axes):\n",
        "    img = cv2.imread(img_path)\n",
        "    img = cv2.cvtColor(img, cv2.COLOR_BGR2RGB)\n",
        "    ax.imshow(img)\n",
        "    ax.axis(\"off\")\n",
        "plt.show()\n"
      ]
    },
    {
      "cell_type": "code",
      "execution_count": null,
      "metadata": {
        "colab": {
          "base_uri": "https://localhost:8080/",
          "height": 0
        },
        "id": "N8L5uVXlt_YB",
        "outputId": "8626e0f2-bec7-4c81-98a0-180266d1cf2d"
      },
      "outputs": [],
      "source": [
        "# Train YOLOv5\n",
        "\n",
        "# !python train.py --img 640 --batch 16 --epochs 50 --data /content/mask_wearing/data.yaml--weights yolov5s.pt\n",
        "!python train.py --weights yolov5s.pt --img 640 --batch-size 16 --epochs 50 --data /content/mask_dataset/data.yaml\n",
        "\n"
      ]
    },
    {
      "cell_type": "code",
      "execution_count": null,
      "metadata": {
        "colab": {
          "base_uri": "https://localhost:8080/",
          "height": 0
        },
        "id": "9WAvRgDVBX4G",
        "outputId": "ee27e0d8-c2ef-48bb-c5dc-c0468a3f4cf7"
      },
      "outputs": [],
      "source": [
        "!find /content -name \"best.pt\"\n"
      ]
    },
    {
      "cell_type": "code",
      "execution_count": null,
      "metadata": {
        "colab": {
          "base_uri": "https://localhost:8080/",
          "height": 0
        },
        "id": "njOftfNs_ZuI",
        "outputId": "38c1efe3-8401-47b1-ce4f-b309b33886ad"
      },
      "outputs": [],
      "source": [
        "# Test YOLOv5\n",
        "# !python detect.py --weights runs/train/exp/weights/best.pt --source {DATASET_PATH}/test/images\n",
        "!python detect.py --weights /content/yolov5/yolov5/runs/train/exp2/weights/best.pt --source /content/mask_dataset/test/images --conf-thres 0.25 --iou-thres 0.45\n"
      ]
    },
    {
      "cell_type": "code",
      "execution_count": null,
      "metadata": {
        "id": "UK18RmknHK7U"
      },
      "outputs": [],
      "source": [
        "import tensorflow as tf\n",
        "import numpy as np\n",
        "import matplotlib.pyplot as plt\n",
        "from tensorflow.keras.applications import ResNet50\n",
        "from tensorflow.keras.preprocessing import image\n",
        "from tensorflow.keras.applications.resnet50 import preprocess_input\n",
        "from tensorflow.keras.models import Model\n",
        "import random\n",
        "import os\n"
      ]
    },
    {
      "cell_type": "code",
      "execution_count": null,
      "metadata": {
        "colab": {
          "base_uri": "https://localhost:8080/"
        },
        "id": "0tPkSLpHHO_9",
        "outputId": "9f3b8f2b-a5e8-4811-c984-48789bb308d4"
      },
      "outputs": [],
      "source": [
        "# # Force TensorFlow to use CPU\n",
        "# os.environ[\"CUDA_VISIBLE_DEVICES\"] = \"-1\"\n",
        "\n",
        "# # Clear previous models from memory\n",
        "# tf.keras.backend.clear_session()\n",
        "\n",
        "base_model = ResNet50(weights='imagenet', include_top=False)\n"
      ]
    },
    {
      "cell_type": "code",
      "execution_count": null,
      "metadata": {
        "colab": {
          "base_uri": "https://localhost:8080/"
        },
        "id": "l8F9L5BNSwxb",
        "outputId": "f20dab47-eb1a-45ca-ca97-ac10979d82ce"
      },
      "outputs": [],
      "source": [
        "\n",
        "print(f\"TensorFlow version: {tf.__version__}\")\n",
        "print(f\"Is built with CUDA: {tf.test.is_built_with_cuda()}\")\n",
        "print(f\"Is GPU available: {tf.config.list_physical_devices('GPU')}\")"
      ]
    },
    {
      "cell_type": "code",
      "execution_count": null,
      "metadata": {
        "id": "40BKlQSAGmaX"
      },
      "outputs": [],
      "source": [
        "# Define the layers to extract features from\n",
        "layer_names = ['conv1_relu', 'conv2_block3_out', 'conv4_block6_out']\n",
        "feature_extractor = Model(inputs=base_model.input, outputs=[base_model.get_layer(name).output for name in layer_names])\n",
        "\n",
        "# Function to preprocess an image\n",
        "def load_and_preprocess_img(img_path):\n",
        "    img = image.load_img(img_path, target_size=(224, 224))  # ResNet50 expects 224x224\n",
        "    img_array = image.img_to_array(img)\n",
        "    img_array = np.expand_dims(img_array, axis=0)\n",
        "    return img_array\n",
        "\n",
        "\n",
        "# Function to display feature maps\n",
        "def display_feature_maps(features, layer_name):\n",
        "    num_features = features.shape[-1]  # Number of filters\n",
        "    size = features.shape[1]  # Size of feature map\n",
        "    cols = 8  # Number of columns in the display grid\n",
        "    rows = num_features // cols  # Number of rows\n",
        "\n",
        "    fig, axes = plt.subplots(rows, cols, figsize=(15, 15))\n",
        "    for i in range(rows):\n",
        "        for j in range(cols):\n",
        "            ax = axes[i, j]\n",
        "            ax.imshow(features[0, :, :, i * cols + j], cmap='viridis')\n",
        "            ax.axis('off')\n",
        "    plt.suptitle(f'Feature Maps from {layer_name}', fontsize=16)\n",
        "    plt.show()\n"
      ]
    },
    {
      "cell_type": "code",
      "execution_count": null,
      "metadata": {
        "colab": {
          "base_uri": "https://localhost:8080/"
        },
        "id": "Pavk_UW9Hcdm",
        "outputId": "1a1f4a54-42aa-4b6c-f4fd-c6057bb00c1e"
      },
      "outputs": [],
      "source": [
        "import kagglehub\n",
        "import shutil\n",
        "\n",
        "# Download the dataset (default location)\n",
        "download_path = kagglehub.dataset_download(\"jessicali9530/stanford-cars-dataset\")\n",
        "\n",
        "# Define your custom save location\n",
        "save_path = \"/content/dataset/stanford-cars\"\n",
        "\n",
        "# Move the dataset to your desired location\n",
        "shutil.move(download_path, save_path)\n",
        "\n",
        "print(\"Dataset moved to:\", save_path)\n"
      ]
    },
    {
      "cell_type": "code",
      "execution_count": null,
      "metadata": {
        "colab": {
          "base_uri": "https://localhost:8080/",
          "height": 192
        },
        "id": "uh_Hju-ZJhRC",
        "outputId": "46eeecaa-08df-46e5-8509-eb5997449ef6"
      },
      "outputs": [],
      "source": [
        "\n",
        "dataset_path = \"/content/dataset/stanford-cars/cars_test/cars_test/\"  # Change this to your dataset folder\n",
        "\n",
        "# Select 5 random images\n",
        "image_files = random.sample(os.listdir(dataset_path), 5)\n",
        "image_paths = [os.path.join(dataset_path, img) for img in image_files]\n",
        "\n",
        "# Display the images\n",
        "plt.figure(figsize=(10, 6))  # Set figure size\n",
        "for i, img_path in enumerate(image_paths):\n",
        "    img = image.load_img(img_path, target_size=(224, 224))  # Load image correctly\n",
        "    plt.subplot(1, 5, i + 1)  # Arrange in 1 row, 5 columns\n",
        "    plt.imshow(img)\n",
        "    plt.axis('off')  # Hide axis\n",
        "    plt.title(f\"Image {i+1}\")\n",
        "\n",
        "plt.show()  # Show images\n"
      ]
    },
    {
      "cell_type": "code",
      "execution_count": null,
      "metadata": {
        "colab": {
          "base_uri": "https://localhost:8080/",
          "height": 1000
        },
        "id": "Ibbaje8WQ5ZT",
        "outputId": "384417c3-f4d0-41bf-c4ea-d11d9fe43d38"
      },
      "outputs": [],
      "source": [
        "\n",
        "# Process and extract features\n",
        "for img_path in image_paths:\n",
        "    img_array = load_and_preprocess_img(img_path)\n",
        "    features = feature_extractor.predict(img_array)\n",
        "\n",
        "    # Display original image\n",
        "    img = image.load_img(img_path, target_size=(224, 224))\n",
        "    plt.imshow(img)\n",
        "    plt.axis('off')\n",
        "    plt.title('Original Image')\n",
        "    plt.show()\n",
        "\n",
        "    # Display extracted features\n",
        "    for feature, layer in zip(features, layer_names):\n",
        "        display_feature_maps(feature, layer)"
      ]
    }
  ],
  "metadata": {
    "colab": {
      "collapsed_sections": [
        "g8P6RvKBFv98"
      ],
      "provenance": []
    },
    "kernelspec": {
      "display_name": "Python 3",
      "name": "python3"
    },
    "language_info": {
      "name": "python"
    }
  },
  "nbformat": 4,
  "nbformat_minor": 0
}
